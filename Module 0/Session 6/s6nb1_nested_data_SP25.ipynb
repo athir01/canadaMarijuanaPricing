{
  "cells": [
    {
      "cell_type": "markdown",
      "metadata": {
        "id": "view-in-github",
        "colab_type": "text"
      },
      "source": [
        "<a href=\"https://colab.research.google.com/github/athir01/canadaMarijuanaPricing/blob/main/Module%200/Session%206/s6nb1_nested_data_SP25.ipynb\" target=\"_parent\"><img src=\"https://colab.research.google.com/assets/colab-badge.svg\" alt=\"Open In Colab\"/></a>"
      ]
    },
    {
      "cell_type": "markdown",
      "id": "3e486c9a",
      "metadata": {
        "id": "3e486c9a"
      },
      "source": [
        "# Intro to Nested Data"
      ]
    },
    {
      "cell_type": "markdown",
      "id": "f676058e",
      "metadata": {
        "id": "f676058e"
      },
      "source": [
        "### Now that we have covered the different data structures that we will use in Module 0, we now introduce `Nested Data`.\n",
        "\n",
        "### If you want to be successful in this course, you `ABSOLUTELY MUST` understand how to work with nested data.\n",
        "\n",
        "### Every notebook and every exam will require you to manipulate nested data in some way."
      ]
    },
    {
      "cell_type": "markdown",
      "id": "ceb30c51",
      "metadata": {
        "id": "ceb30c51"
      },
      "source": [
        "#### Main data structures in Python -\n",
        "1. Lists\n",
        "2. Tuples\n",
        "3. Dictionaries\n",
        "4. Sets\n",
        "\n",
        "#### You can nest these data structures one inside the other. For example -\n",
        "1. List of lists\n",
        "2. List of tuples\n",
        "3. List of dictionaries\n",
        "4. Dictionary of lists\n",
        "5. Dictionary of dictionaries\n",
        "6. Dictionary of lists of dictionaries.....\n",
        "etc.\n",
        "\n",
        "#### You `MUST` know how to handle a complex nested data to get the information you want.\n",
        "\n",
        "#### The methodology (you will want to understand and use) is to go step by step and understand how the complex nested data is structured.\n",
        "\n",
        "\n",
        "Let's see some examples to get more idea about these nested data structures -"
      ]
    },
    {
      "cell_type": "markdown",
      "id": "a1384a96",
      "metadata": {
        "id": "a1384a96"
      },
      "source": [
        "### LIst of lists"
      ]
    },
    {
      "cell_type": "code",
      "execution_count": 1,
      "id": "f980b351",
      "metadata": {
        "id": "f980b351"
      },
      "outputs": [],
      "source": [
        "# a fairly simple nested data structure\n",
        "# list of lists\n",
        "\n",
        "# Each child list represents cities in a particular state\n",
        "\n",
        "list_of_lists = [\n",
        "    [\"Atlanta\",\"Savannah\",\"Macon\",\"Columbus\",\"Augusta\"],   # Georgia\n",
        "    [\"New York\",\"Albany\",\"Buffalo\",\"Rochester\",\"Syracuse\"],  #New York\n",
        "    [\"Orlando\",\"Miami\",\"Jacksonville\",\"Tallahassee\",\"Tampa\"],    # Florida\n",
        "    [\"Philadelphia\",\"Pittsburgh\",\"Harrisburg\",\"Scranton\",\"Allentown\"]  # Pennsylvania\n",
        "]"
      ]
    },
    {
      "cell_type": "markdown",
      "id": "b7c1d792",
      "metadata": {
        "id": "b7c1d792"
      },
      "source": [
        "#### The site PythonTutor is fantastic for visualizing these data structures.\n",
        "\n",
        "Let's take our list_of_lists over there and see what it looks like.\n",
        "\n",
        "https://pythontutor.com/python-debugger.html#mode=edit"
      ]
    },
    {
      "cell_type": "markdown",
      "id": "fb115f4f",
      "metadata": {
        "id": "fb115f4f"
      },
      "source": [
        "#### Now let's look at how to address this with code. At each step below, we will go back to Python Tutor to cross-reference the data structure's visual representation with the syntax of how we are addressing each element."
      ]
    },
    {
      "cell_type": "code",
      "execution_count": 2,
      "id": "0c70498b",
      "metadata": {
        "id": "0c70498b",
        "outputId": "53f6c1b4-8b3c-46bc-c5a7-b2ccc6f1b7a5",
        "colab": {
          "base_uri": "https://localhost:8080/"
        }
      },
      "outputs": [
        {
          "output_type": "execute_result",
          "data": {
            "text/plain": [
              "list"
            ]
          },
          "metadata": {},
          "execution_count": 2
        }
      ],
      "source": [
        "type(list_of_lists)"
      ]
    },
    {
      "cell_type": "markdown",
      "id": "159d9b45",
      "metadata": {
        "id": "159d9b45"
      },
      "source": [
        "#### Recall that for lists, we are addressing each element using the index position of each list element."
      ]
    },
    {
      "cell_type": "code",
      "execution_count": 3,
      "id": "fa02c536",
      "metadata": {
        "id": "fa02c536",
        "outputId": "8c6cc96c-75f9-4374-d28c-cfe4a2fa0055",
        "colab": {
          "base_uri": "https://localhost:8080/",
          "height": 53
        }
      },
      "outputs": [
        {
          "output_type": "display_data",
          "data": {
            "text/plain": [
              "['Atlanta', 'Savannah', 'Macon', 'Columbus', 'Augusta']"
            ]
          },
          "metadata": {}
        },
        {
          "output_type": "display_data",
          "data": {
            "text/plain": [
              "list"
            ]
          },
          "metadata": {}
        }
      ],
      "source": [
        "display(list_of_lists[0])\n",
        "display(type(list_of_lists[0]))"
      ]
    },
    {
      "cell_type": "markdown",
      "id": "094c1e1b",
      "metadata": {
        "id": "094c1e1b"
      },
      "source": [
        "#### So what about the first element in this child list?\n",
        "\n",
        "We do this by adding the index of the child list as the next reference syntax to its parent."
      ]
    },
    {
      "cell_type": "code",
      "execution_count": 4,
      "id": "fbcb8c7d",
      "metadata": {
        "id": "fbcb8c7d",
        "outputId": "5542616d-0641-43a5-a716-55580eb29ff0",
        "colab": {
          "base_uri": "https://localhost:8080/",
          "height": 53
        }
      },
      "outputs": [
        {
          "output_type": "display_data",
          "data": {
            "text/plain": [
              "'Atlanta'"
            ],
            "application/vnd.google.colaboratory.intrinsic+json": {
              "type": "string"
            }
          },
          "metadata": {}
        },
        {
          "output_type": "display_data",
          "data": {
            "text/plain": [
              "str"
            ]
          },
          "metadata": {}
        }
      ],
      "source": [
        "display(list_of_lists[0][0])\n",
        "display(type(list_of_lists[0][0]))"
      ]
    },
    {
      "cell_type": "markdown",
      "id": "e4395a9e",
      "metadata": {
        "id": "e4395a9e"
      },
      "source": [
        "#### How about the 4th city in the list of Florida cities?"
      ]
    },
    {
      "cell_type": "code",
      "execution_count": 5,
      "id": "1b0f2345",
      "metadata": {
        "id": "1b0f2345",
        "outputId": "a1838920-1807-42b4-8bd4-625df54b33cb",
        "colab": {
          "base_uri": "https://localhost:8080/",
          "height": 35
        }
      },
      "outputs": [
        {
          "output_type": "execute_result",
          "data": {
            "text/plain": [
              "'Tallahassee'"
            ],
            "application/vnd.google.colaboratory.intrinsic+json": {
              "type": "string"
            }
          },
          "metadata": {},
          "execution_count": 5
        }
      ],
      "source": [
        "list_of_lists[2][3]"
      ]
    },
    {
      "cell_type": "markdown",
      "id": "3d00ed48",
      "metadata": {
        "id": "3d00ed48"
      },
      "source": [
        "#### How would we loop over all of the cities in the entire list of lists?\n",
        "\n",
        "We will use a pair of nested `for` loops."
      ]
    },
    {
      "cell_type": "code",
      "execution_count": 6,
      "id": "be9d8cbd",
      "metadata": {
        "id": "be9d8cbd",
        "outputId": "cf3af807-4144-47be-e9bc-f9b9ff2eee15",
        "colab": {
          "base_uri": "https://localhost:8080/"
        }
      },
      "outputs": [
        {
          "output_type": "stream",
          "name": "stdout",
          "text": [
            "Atlanta\n",
            "Savannah\n",
            "Macon\n",
            "Columbus\n",
            "Augusta\n",
            "\n",
            "\n",
            "New York\n",
            "Albany\n",
            "Buffalo\n",
            "Rochester\n",
            "Syracuse\n",
            "\n",
            "\n",
            "Orlando\n",
            "Miami\n",
            "Jacksonville\n",
            "Tallahassee\n",
            "Tampa\n",
            "\n",
            "\n",
            "Philadelphia\n",
            "Pittsburgh\n",
            "Harrisburg\n",
            "Scranton\n",
            "Allentown\n",
            "\n",
            "\n"
          ]
        }
      ],
      "source": [
        "# execute and walk through how the two loops operate\n",
        "# the outer loop goes goes to each of the child lists\n",
        "# the inner loop goes to each element/city of each child list\n",
        "\n",
        "for state in list_of_lists:    # loop over each item in the parent list\n",
        "    for city in state:         # Loop over each item in each child list\n",
        "        print(city)\n",
        "    print('\\n')                # leave a space between each group of cities"
      ]
    },
    {
      "cell_type": "markdown",
      "id": "7e871e7a",
      "metadata": {
        "id": "7e871e7a"
      },
      "source": [
        "#### Questions on list of lists?"
      ]
    },
    {
      "cell_type": "markdown",
      "id": "e5ab70ce",
      "metadata": {
        "id": "e5ab70ce"
      },
      "source": [
        "### LIst of tuples"
      ]
    },
    {
      "cell_type": "code",
      "execution_count": 8,
      "id": "f7e58c60",
      "metadata": {
        "id": "f7e58c60"
      },
      "outputs": [],
      "source": [
        "# a fairly simple nested data structure\n",
        "# list of tuples\n",
        "\n",
        "# Each child tuple represents cities in a particular state\n",
        "\n",
        "list_of_tuples = [\n",
        "    (\"Atlanta\",\"Savannah\",\"Macon\",\"Columbus\",\"Augusta\"),   # Georgia\n",
        "    (\"New York\",\"Albany\",\"Buffalo\",\"Rochester\",\"Syracuse\"),  #New York\n",
        "    (\"Orlando\",\"Miami\",\"Jacksonville\",\"Tallahassee\",\"Tampa\"),    # Florida\n",
        "    (\"Philadelphia\",\"Pittsburgh\",\"Harrisburg\",\"Scranton\",\"Allentown\")  # Pennsylvania\n",
        "]"
      ]
    },
    {
      "cell_type": "code",
      "execution_count": 9,
      "id": "ad92dbfa",
      "metadata": {
        "id": "ad92dbfa",
        "outputId": "ba235d90-a019-42f3-cac8-0db6b2454c33",
        "colab": {
          "base_uri": "https://localhost:8080/"
        }
      },
      "outputs": [
        {
          "output_type": "execute_result",
          "data": {
            "text/plain": [
              "list"
            ]
          },
          "metadata": {},
          "execution_count": 9
        }
      ],
      "source": [
        "# what is the parent data type?\n",
        "\n",
        "type(list_of_tuples)"
      ]
    },
    {
      "cell_type": "code",
      "execution_count": 10,
      "id": "b59ee3df",
      "metadata": {
        "id": "b59ee3df",
        "outputId": "ebc5f0af-91c9-401d-91a3-11e7d65b4373",
        "colab": {
          "base_uri": "https://localhost:8080/",
          "height": 53
        }
      },
      "outputs": [
        {
          "output_type": "display_data",
          "data": {
            "text/plain": [
              "('Atlanta', 'Savannah', 'Macon', 'Columbus', 'Augusta')"
            ]
          },
          "metadata": {}
        },
        {
          "output_type": "display_data",
          "data": {
            "text/plain": [
              "tuple"
            ]
          },
          "metadata": {}
        }
      ],
      "source": [
        "# what about the first child element?\n",
        "\n",
        "display(list_of_tuples[0])\n",
        "display(type(list_of_tuples[0]))"
      ]
    },
    {
      "cell_type": "markdown",
      "id": "8162fd91",
      "metadata": {
        "id": "8162fd91"
      },
      "source": [
        "#### Recall that for tuples, we are addressing each element using the index position of each tuple element."
      ]
    },
    {
      "cell_type": "code",
      "execution_count": 11,
      "id": "1f418deb",
      "metadata": {
        "id": "1f418deb",
        "outputId": "b77efd02-c1d8-4591-d207-9b37bf59bdcc",
        "colab": {
          "base_uri": "https://localhost:8080/",
          "height": 53
        }
      },
      "outputs": [
        {
          "output_type": "display_data",
          "data": {
            "text/plain": [
              "'Atlanta'"
            ],
            "application/vnd.google.colaboratory.intrinsic+json": {
              "type": "string"
            }
          },
          "metadata": {}
        },
        {
          "output_type": "display_data",
          "data": {
            "text/plain": [
              "str"
            ]
          },
          "metadata": {}
        }
      ],
      "source": [
        "# What about the first element of the first child tuple?\n",
        "\n",
        "display(list_of_lists[0][0])\n",
        "display(type(list_of_lists[0][0]))"
      ]
    },
    {
      "cell_type": "markdown",
      "id": "64fecd7c",
      "metadata": {
        "id": "64fecd7c"
      },
      "source": [
        "#### How would we loop over all of the cities in the entire list of tuples?\n",
        "\n",
        "We will use a pair of nested `for` loops."
      ]
    },
    {
      "cell_type": "code",
      "execution_count": 13,
      "id": "e369b503",
      "metadata": {
        "id": "e369b503",
        "outputId": "cac52aa4-96b3-40a5-f88e-4228accf74b6",
        "colab": {
          "base_uri": "https://localhost:8080/"
        }
      },
      "outputs": [
        {
          "output_type": "stream",
          "name": "stdout",
          "text": [
            "Atlanta\n",
            "Savannah\n",
            "Macon\n",
            "Columbus\n",
            "Augusta\n",
            "\n",
            "\n",
            "New York\n",
            "Albany\n",
            "Buffalo\n",
            "Rochester\n",
            "Syracuse\n",
            "\n",
            "\n",
            "Orlando\n",
            "Miami\n",
            "Jacksonville\n",
            "Tallahassee\n",
            "Tampa\n",
            "\n",
            "\n",
            "Philadelphia\n",
            "Pittsburgh\n",
            "Harrisburg\n",
            "Scranton\n",
            "Allentown\n",
            "\n",
            "\n"
          ]
        }
      ],
      "source": [
        "# execute and walk through how the two loops operate\n",
        "# the outer loop goes goes to each of the child lists\n",
        "# the inner loop goes to each element/city of each child list\n",
        "\n",
        "for state in list_of_tuples:    # loop over each item in the parent list\n",
        "    for city in state:         # Loop over each item in each child list\n",
        "        print(city)\n",
        "    print('\\n')                # leave a space between each group of cities"
      ]
    },
    {
      "cell_type": "markdown",
      "id": "d7964c33",
      "metadata": {
        "id": "d7964c33"
      },
      "source": [
        "### What is the pattern that you can see from these two examples?\n",
        "\n",
        "1.  You will address each level in the nested data structure by how its data type is referenced.\n",
        "\n",
        "2.  The parent data structure is addressed in square brackets immediately after the variable name.\n",
        "\n",
        "3.  For each subsequent child data structure, add a pair of square brackets and address each element according to its data type.\n",
        "\n",
        "4.  So your first task is to identify the data type of each level. Python Tutor is very good for this."
      ]
    },
    {
      "cell_type": "markdown",
      "id": "c08d5770",
      "metadata": {
        "id": "c08d5770"
      },
      "source": [
        "### Now let's look at a more complex example.\n",
        "\n",
        "### A list of dictionaries with tuples as the values of the key-value pair."
      ]
    },
    {
      "cell_type": "code",
      "execution_count": 14,
      "id": "722e14c9",
      "metadata": {
        "id": "722e14c9"
      },
      "outputs": [],
      "source": [
        "list_of_dicts = [\n",
        "\n",
        "    {\"Georgia\":(\"Atlanta\",\"Savannah\",\"Macon\",\"Columbus\",\"Augusta\")},   # Georgia\n",
        "    {\"New York\":(\"New York\",\"Albany\",\"Buffalo\",\"Rochester\",\"Syracuse\")},  #New York\n",
        "    {\"Florida\":(\"Orlando\",\"Miami\",\"Jacksonville\",\"Tallahassee\",\"Tampa\")},    # Florida\n",
        "    {\"Pennsylvania\":(\"Philadelphia\",\"Pittsburgh\",\"Harrisburg\",\"Scranton\",\"Allentown\")}  # Pennsylvania\n",
        "\n",
        "]"
      ]
    },
    {
      "cell_type": "markdown",
      "id": "16acb3ad",
      "metadata": {
        "id": "16acb3ad"
      },
      "source": [
        "#### What does it look like in Python Tutor?\n",
        "\n",
        "https://pythontutor.com/python-debugger.html#mode=edit\n",
        "\n",
        "*****************************************************\n",
        "\n",
        "#### Now let's look at how to address this with code."
      ]
    },
    {
      "cell_type": "code",
      "execution_count": 15,
      "id": "54e154c7",
      "metadata": {
        "id": "54e154c7",
        "outputId": "fac0d2e4-2a0d-4f2c-d500-b4353a52669f",
        "colab": {
          "base_uri": "https://localhost:8080/"
        }
      },
      "outputs": [
        {
          "output_type": "execute_result",
          "data": {
            "text/plain": [
              "list"
            ]
          },
          "metadata": {},
          "execution_count": 15
        }
      ],
      "source": [
        "# What is the parent data type?\n",
        "\n",
        "type(list_of_dicts)"
      ]
    },
    {
      "cell_type": "code",
      "execution_count": 16,
      "id": "2500b029",
      "metadata": {
        "id": "2500b029",
        "outputId": "fc93442e-cfe0-49ac-95a7-5e8596e96965",
        "colab": {
          "base_uri": "https://localhost:8080/",
          "height": 53
        }
      },
      "outputs": [
        {
          "output_type": "display_data",
          "data": {
            "text/plain": [
              "{'Georgia': ('Atlanta', 'Savannah', 'Macon', 'Columbus', 'Augusta')}"
            ]
          },
          "metadata": {}
        },
        {
          "output_type": "display_data",
          "data": {
            "text/plain": [
              "dict"
            ]
          },
          "metadata": {}
        }
      ],
      "source": [
        "# what about the first child element?\n",
        "\n",
        "display(list_of_dicts[0])\n",
        "display(type(list_of_dicts[0]))"
      ]
    },
    {
      "cell_type": "code",
      "execution_count": 18,
      "id": "eb529e35",
      "metadata": {
        "id": "eb529e35"
      },
      "outputs": [],
      "source": [
        "# What about the first element of the first child dictionary?\n",
        "# Uncomment to run the code\n",
        "# This throws an error.\n",
        "# Why?\n",
        "\n",
        "# display(list_of_dicts[0][0])\n",
        "# display(type(list_of_dicts[0][0]))\n",
        "\n",
        "#have to use a key to access dictionary, not the index"
      ]
    },
    {
      "cell_type": "code",
      "execution_count": 19,
      "id": "72a92240",
      "metadata": {
        "id": "72a92240",
        "outputId": "cd0bc5f1-2b3a-4e7d-c7b3-f403ed8681ba",
        "colab": {
          "base_uri": "https://localhost:8080/",
          "height": 53
        }
      },
      "outputs": [
        {
          "output_type": "display_data",
          "data": {
            "text/plain": [
              "('Atlanta', 'Savannah', 'Macon', 'Columbus', 'Augusta')"
            ]
          },
          "metadata": {}
        },
        {
          "output_type": "display_data",
          "data": {
            "text/plain": [
              "tuple"
            ]
          },
          "metadata": {}
        }
      ],
      "source": [
        "# What about the first element of the first child dictionary?\n",
        "\n",
        "display(list_of_dicts[0][\"Georgia\"])\n",
        "display(type(list_of_dicts[0][\"Georgia\"]))"
      ]
    },
    {
      "cell_type": "code",
      "execution_count": 20,
      "id": "1ba9f2a2",
      "metadata": {
        "id": "1ba9f2a2",
        "outputId": "e4d53a33-67b8-4949-c343-58e8062fed15",
        "colab": {
          "base_uri": "https://localhost:8080/",
          "height": 53
        }
      },
      "outputs": [
        {
          "output_type": "display_data",
          "data": {
            "text/plain": [
              "'Atlanta'"
            ],
            "application/vnd.google.colaboratory.intrinsic+json": {
              "type": "string"
            }
          },
          "metadata": {}
        },
        {
          "output_type": "display_data",
          "data": {
            "text/plain": [
              "str"
            ]
          },
          "metadata": {}
        }
      ],
      "source": [
        "# What about the first city in the Georgia dictionary?\n",
        "\n",
        "display(list_of_dicts[0][\"Georgia\"][0])\n",
        "display(type(list_of_dicts[0][\"Georgia\"][0]))"
      ]
    },
    {
      "cell_type": "markdown",
      "id": "134a848b",
      "metadata": {
        "id": "134a848b"
      },
      "source": [
        "#### How would we loop over all of the cities in the entire list of dictionaries with tuples for values?\n",
        "\n",
        "We will use three nested `for` loops."
      ]
    },
    {
      "cell_type": "code",
      "execution_count": 2,
      "id": "5005a24b",
      "metadata": {
        "id": "5005a24b",
        "outputId": "ef6931ce-074b-4d01-f83b-12da1d6e840d",
        "colab": {
          "base_uri": "https://localhost:8080/",
          "height": 216
        }
      },
      "outputs": [
        {
          "output_type": "error",
          "ename": "NameError",
          "evalue": "name 'list_of_dicts' is not defined",
          "traceback": [
            "\u001b[0;31m---------------------------------------------------------------------------\u001b[0m",
            "\u001b[0;31mNameError\u001b[0m                                 Traceback (most recent call last)",
            "\u001b[0;32m<ipython-input-2-30e60fbdae7d>\u001b[0m in \u001b[0;36m<cell line: 0>\u001b[0;34m()\u001b[0m\n\u001b[1;32m      4\u001b[0m \u001b[0;31m# the inner loop goes to each element/city of each child list\u001b[0m\u001b[0;34m\u001b[0m\u001b[0;34m\u001b[0m\u001b[0m\n\u001b[1;32m      5\u001b[0m \u001b[0;34m\u001b[0m\u001b[0m\n\u001b[0;32m----> 6\u001b[0;31m \u001b[0;32mfor\u001b[0m \u001b[0mstate\u001b[0m \u001b[0;32min\u001b[0m \u001b[0mlist_of_dicts\u001b[0m\u001b[0;34m:\u001b[0m \u001b[0;31m# loop over each item in the parent list\u001b[0m\u001b[0;34m\u001b[0m\u001b[0;34m\u001b[0m\u001b[0m\n\u001b[0m\u001b[1;32m      7\u001b[0m     \u001b[0mprint\u001b[0m\u001b[0;34m(\u001b[0m\u001b[0mstate\u001b[0m\u001b[0;34m)\u001b[0m     \u001b[0;31m# this is the actual state-level dictionary\u001b[0m\u001b[0;34m\u001b[0m\u001b[0;34m\u001b[0m\u001b[0m\n\u001b[1;32m      8\u001b[0m \u001b[0;34m\u001b[0m\u001b[0m\n",
            "\u001b[0;31mNameError\u001b[0m: name 'list_of_dicts' is not defined"
          ]
        }
      ],
      "source": [
        "# uncomment each loop individually, to see how each works\n",
        "# execute and walk through how the three loops operate\n",
        "# the outer loop goes goes to each of the child lists\n",
        "# the inner loop goes to each element/city of each child list\n",
        "\n",
        "for state in list_of_dicts: # loop over each item in the parent list\n",
        "    print(state)     # this is the actual state-level dictionary\n",
        "\n",
        "#*********************************************\n",
        "# Either one of these two for loops will work\n",
        "# One uses .items() to give the key-value pair and then loops over the values\n",
        "# The other gets the the values directly, using .values()\n",
        "#\n",
        "    for key, value in state.items():         # Loop over each key-value pair in the dictionary, use items() to access key value pair\n",
        "        print(\"key: \", key)\n",
        "        print(\"value: \", value)\n",
        "\n",
        "    for city in state.values(): #use values() for extracting the tuples\n",
        "        print(city)\n",
        "\n",
        "#**********************************************\n",
        "\n",
        "#         for city in value:    # loop over the elements of the tuple, which are the value of the key-value pair\n",
        "#             print(city)\n",
        "\n",
        "    print('\\n')                # leave a space between each group of cities"
      ]
    },
    {
      "cell_type": "markdown",
      "id": "ba0af029",
      "metadata": {
        "id": "ba0af029"
      },
      "source": [
        "### Useful link to understand nested data structures more deeply - https://web.stanford.edu/class/archive/cs/cs106ap/cs106ap.1198/lectures/15-NestedCollections/15-Nested_Data_Structures.pdf"
      ]
    },
    {
      "cell_type": "markdown",
      "id": "02271d12",
      "metadata": {
        "id": "02271d12"
      },
      "source": [
        "## What are your questions on this introduction to nested data structures?"
      ]
    },
    {
      "cell_type": "markdown",
      "id": "a66c825f",
      "metadata": {
        "id": "a66c825f"
      },
      "source": [
        "### The next notebook is going to present a complex nested data structure and some practical questions to answer about it.\n",
        "\n",
        "### The notebook represents a complexity similar to how you will be asked to manipulate nested data structures on the exam."
      ]
    },
    {
      "cell_type": "code",
      "execution_count": null,
      "id": "ae9ded99",
      "metadata": {
        "id": "ae9ded99"
      },
      "outputs": [],
      "source": []
    }
  ],
  "metadata": {
    "colab": {
      "provenance": [],
      "include_colab_link": true
    },
    "kernelspec": {
      "display_name": "Python 3 (ipykernel)",
      "language": "python",
      "name": "python3"
    },
    "language_info": {
      "codemirror_mode": {
        "name": "ipython",
        "version": 3
      },
      "file_extension": ".py",
      "mimetype": "text/x-python",
      "name": "python",
      "nbconvert_exporter": "python",
      "pygments_lexer": "ipython3",
      "version": "3.9.13"
    }
  },
  "nbformat": 4,
  "nbformat_minor": 5
}